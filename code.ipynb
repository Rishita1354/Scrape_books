{
 "cells": [
  {
   "cell_type": "code",
   "execution_count": 1,
   "id": "d7863a4f",
   "metadata": {},
   "outputs": [
    {
     "name": "stdout",
     "output_type": "stream",
     "text": [
      "Requirement already satisfied: requests in c:\\users\\rishi\\appdata\\local\\programs\\python\\python37\\lib\\site-packages (2.31.0)\n",
      "Requirement already satisfied: beautifulsoup4 in c:\\users\\rishi\\appdata\\local\\programs\\python\\python37\\lib\\site-packages (4.13.4)\n",
      "Requirement already satisfied: pandas in c:\\users\\rishi\\appdata\\local\\programs\\python\\python37\\lib\\site-packages (1.3.5)\n",
      "Requirement already satisfied: certifi>=2017.4.17 in c:\\users\\rishi\\appdata\\local\\programs\\python\\python37\\lib\\site-packages (from requests) (2025.1.31)\n",
      "Requirement already satisfied: idna<4,>=2.5 in c:\\users\\rishi\\appdata\\local\\programs\\python\\python37\\lib\\site-packages (from requests) (3.10)\n",
      "Requirement already satisfied: charset-normalizer<4,>=2 in c:\\users\\rishi\\appdata\\local\\programs\\python\\python37\\lib\\site-packages (from requests) (3.4.1)\n",
      "Requirement already satisfied: urllib3<3,>=1.21.1 in c:\\users\\rishi\\appdata\\local\\programs\\python\\python37\\lib\\site-packages (from requests) (2.0.7)\n",
      "Requirement already satisfied: typing-extensions>=4.0.0 in c:\\users\\rishi\\appdata\\local\\programs\\python\\python37\\lib\\site-packages (from beautifulsoup4) (4.7.1)\n",
      "Requirement already satisfied: soupsieve>1.2 in c:\\users\\rishi\\appdata\\local\\programs\\python\\python37\\lib\\site-packages (from beautifulsoup4) (2.4.1)\n",
      "Requirement already satisfied: python-dateutil>=2.7.3 in c:\\users\\rishi\\appdata\\roaming\\python\\python37\\site-packages (from pandas) (2.9.0.post0)\n",
      "Requirement already satisfied: numpy>=1.17.3; platform_machine != \"aarch64\" and platform_machine != \"arm64\" and python_version < \"3.10\" in c:\\users\\rishi\\appdata\\local\\programs\\python\\python37\\lib\\site-packages (from pandas) (1.21.6)\n",
      "Requirement already satisfied: pytz>=2017.3 in c:\\users\\rishi\\appdata\\local\\programs\\python\\python37\\lib\\site-packages (from pandas) (2025.2)\n",
      "Requirement already satisfied: six>=1.5 in c:\\users\\rishi\\appdata\\roaming\\python\\python37\\site-packages (from python-dateutil>=2.7.3->pandas) (1.17.0)\n",
      "Note: you may need to restart the kernel to use updated packages.\n"
     ]
    },
    {
     "name": "stderr",
     "output_type": "stream",
     "text": [
      "WARNING: You are using pip version 20.1.1; however, version 24.0 is available.\n",
      "You should consider upgrading via the 'c:\\Users\\rishi\\AppData\\Local\\Programs\\Python\\Python37\\python.exe -m pip install --upgrade pip' command.\n"
     ]
    }
   ],
   "source": [
    "pip install requests beautifulsoup4 pandas"
   ]
  },
  {
   "cell_type": "code",
   "execution_count": 2,
   "id": "9cbae585",
   "metadata": {},
   "outputs": [],
   "source": [
    "#getting all gernes + Urls from the main page\n",
    "import requests\n",
    "from bs4 import BeautifulSoup\n",
    "\n",
    "base = \"http://books.toscrape.com/\"\n",
    "response = requests.get(base)\n",
    "soup = BeautifulSoup(response.content, \"html.parser\")\n",
    "\n",
    "# Find the genre list section\n",
    "genre_list = soup.find(\"ul\", class_=\"nav nav-list\").find(\"ul\")\n",
    "\n",
    "genres = genre_list.find_all(\"li\")\n",
    "\n",
    "genre_dict = {}\n",
    "for genre in genres:\n",
    "    genre_name = genre.a.text.strip()\n",
    "    genre_url = base + genre.find(\"a\")[\"href\"]\n",
    "    genre_dict[genre_name] = genre_url"
   ]
  },
  {
   "cell_type": "code",
   "execution_count": 3,
   "id": "0bd5b0dc",
   "metadata": {},
   "outputs": [
    {
     "name": "stdout",
     "output_type": "stream",
     "text": [
      "                                                Title  Price Rating  \\\n",
      "0                             It's Only the Himalayas  45.17    Two   \n",
      "1   Full Moon over Noah’s Ark: An Odyssey to Mount...  49.43   Four   \n",
      "2   See America: A Celebration of Our National Par...  48.87  Three   \n",
      "3   Vagabonding: An Uncommon Guide to the Art of L...  36.94    Two   \n",
      "4                                Under the Tuscan Sun  37.33  Three   \n",
      "5                                  A Summer In Europe  44.34    Two   \n",
      "6                            The Great Railway Bazaar  30.54    One   \n",
      "7                    A Year in Provence (Provence #1)  56.88   Four   \n",
      "8   The Road to Little Dribbling: Adventures of an...  23.21    One   \n",
      "9           Neither Here nor There: Travels in Europe  38.95  Three   \n",
      "10                 1,000 Places to See Before You Die  26.08   Five   \n",
      "\n",
      "   Availability  \n",
      "0      In stock  \n",
      "1      In stock  \n",
      "2      In stock  \n",
      "3      In stock  \n",
      "4      In stock  \n",
      "5      In stock  \n",
      "6      In stock  \n",
      "7      In stock  \n",
      "8      In stock  \n",
      "9      In stock  \n",
      "10     In stock  \n"
     ]
    }
   ],
   "source": [
    "import requests\n",
    "from bs4 import BeautifulSoup\n",
    "import pandas as pd\n",
    "\n",
    "# Example genre URL (Travel)\n",
    "url = \"http://books.toscrape.com/catalogue/category/books/travel_2/index.html\"\n",
    "\n",
    "response = requests.get(url)\n",
    "soup = BeautifulSoup(response.content, \"html.parser\")\n",
    "\n",
    "books = soup.find_all(\"article\", class_=\"product_pod\")\n",
    "\n",
    "book_list = []\n",
    "\n",
    "for book in books:\n",
    "    # Title\n",
    "    title = book.h3.a[\"title\"]\n",
    "    \n",
    "    # Price\n",
    "    price = book.find(\"p\", class_=\"price_color\").text\n",
    "    price = price.replace(\"£\", \"\").strip()\n",
    "    \n",
    "    # Rating (class names like \"star-rating Three\")\n",
    "    rating_class = book.find(\"p\", class_=\"star-rating\")[\"class\"]\n",
    "    rating = rating_class[1]  # e.g., 'Three'\n",
    "\n",
    "    # Availability\n",
    "    availability = book.find(\"p\", class_=\"instock availability\").text.strip()\n",
    "\n",
    "    book_list.append({\n",
    "        \"Title\": title,\n",
    "        \"Price\": float(price),\n",
    "        \"Rating\": rating,\n",
    "        \"Availability\": availability\n",
    "    })\n",
    "\n",
    "df = pd.DataFrame(book_list)\n",
    "print(df)\n"
   ]
  },
  {
   "cell_type": "code",
   "execution_count": 4,
   "id": "a9495a42",
   "metadata": {},
   "outputs": [
    {
     "name": "stdout",
     "output_type": "stream",
     "text": [
      "Scraping: http://books.toscrape.com/catalogue/category/books/travel_2/index.html\n",
      "                                               Title  Price Rating  \\\n",
      "0                            It's Only the Himalayas  45.17    Two   \n",
      "1  Full Moon over Noah’s Ark: An Odyssey to Mount...  49.43   Four   \n",
      "2  See America: A Celebration of Our National Par...  48.87  Three   \n",
      "3  Vagabonding: An Uncommon Guide to the Art of L...  36.94    Two   \n",
      "4                               Under the Tuscan Sun  37.33  Three   \n",
      "\n",
      "  Availability  \n",
      "0     In stock  \n",
      "1     In stock  \n",
      "2     In stock  \n",
      "3     In stock  \n",
      "4     In stock  \n"
     ]
    }
   ],
   "source": [
    "import requests\n",
    "from bs4 import BeautifulSoup\n",
    "import pandas as pd\n",
    "from urllib.parse import urljoin\n",
    "\n",
    "def scrape_genre(genre_url):\n",
    "    all_books = []\n",
    "    \n",
    "    while True:\n",
    "        print(f\"Scraping: {genre_url}\")\n",
    "        response = requests.get(genre_url)\n",
    "        soup = BeautifulSoup(response.content, \"html.parser\")\n",
    "        \n",
    "        books = soup.find_all(\"article\", class_=\"product_pod\")\n",
    "        \n",
    "        for book in books:\n",
    "            title = book.h3.a[\"title\"]\n",
    "            price = book.find(\"p\", class_=\"price_color\").text.replace(\"£\", \"\").strip()\n",
    "            rating_class = book.find(\"p\", class_=\"star-rating\")[\"class\"]\n",
    "            rating = rating_class[1]\n",
    "            availability = book.find(\"p\", class_=\"instock availability\").text.strip()\n",
    "            \n",
    "            all_books.append({\n",
    "                \"Title\": title,\n",
    "                \"Price\": float(price),\n",
    "                \"Rating\": rating,\n",
    "                \"Availability\": availability\n",
    "            })\n",
    "        \n",
    "        # Check if there's a next page\n",
    "        next_button = soup.find(\"li\", class_=\"next\")\n",
    "        if next_button:\n",
    "            next_link = next_button.a[\"href\"]\n",
    "            genre_url = urljoin(genre_url, next_link)  # handle relative links\n",
    "        else:\n",
    "            break\n",
    "    \n",
    "    return pd.DataFrame(all_books)\n",
    "\n",
    "# Example: scrape \"Travel\" genre\n",
    "travel_url = \"http://books.toscrape.com/catalogue/category/books/travel_2/index.html\"\n",
    "df_travel = scrape_genre(travel_url)\n",
    "\n",
    "print(df_travel.head())\n"
   ]
  },
  {
   "cell_type": "code",
   "execution_count": 5,
   "id": "6ce040b5",
   "metadata": {},
   "outputs": [
    {
     "name": "stdout",
     "output_type": "stream",
     "text": [
      "✓ Saved 11 rows → scraped_books\\travel_2025-06-01.csv\n"
     ]
    }
   ],
   "source": [
    "import os\n",
    "from datetime import datetime\n",
    "\n",
    "# -----------------------------------------\n",
    "# df_travel  ← your DataFrame from scrape\n",
    "# genre_name ← pull from the URL or pick manually\n",
    "# -----------------------------------------\n",
    "genre_name = \"travel\"                 # keep it lowercase & underscore‐free\n",
    "today      = datetime.now().strftime(\"%Y-%m-%d\")\n",
    "\n",
    "# build a neat file name, e.g. travel_2025-06-01.csv\n",
    "fname = f\"{genre_name}_{today}.csv\"\n",
    "\n",
    "# OPTIONAL: put everything in a dedicated folder\n",
    "os.makedirs(\"scraped_books\", exist_ok=True)\n",
    "path = os.path.join(\"scraped_books\", fname)\n",
    "\n",
    "df_travel.to_csv(path, index=False)\n",
    "print(f\"✓ Saved {len(df_travel)} rows → {path}\")\n"
   ]
  },
  {
   "cell_type": "code",
   "execution_count": 6,
   "id": "550d37e8",
   "metadata": {},
   "outputs": [
    {
     "name": "stdout",
     "output_type": "stream",
     "text": [
      "Scraping: http://books.toscrape.com/catalogue/category/books/travel_2/index.html\n",
      "Scraping: http://books.toscrape.com/catalogue/category/books/mystery_3/index.html\n",
      "Scraping: http://books.toscrape.com/catalogue/category/books/mystery_3/page-2.html\n",
      "Scraping: http://books.toscrape.com/catalogue/category/books/historical-fiction_4/index.html\n",
      "Scraping: http://books.toscrape.com/catalogue/category/books/historical-fiction_4/page-2.html\n",
      "Scraping: http://books.toscrape.com/catalogue/category/books/sequential-art_5/index.html\n",
      "Scraping: http://books.toscrape.com/catalogue/category/books/sequential-art_5/page-2.html\n",
      "Scraping: http://books.toscrape.com/catalogue/category/books/sequential-art_5/page-3.html\n",
      "Scraping: http://books.toscrape.com/catalogue/category/books/sequential-art_5/page-4.html\n",
      "Scraping: http://books.toscrape.com/catalogue/category/books/classics_6/index.html\n",
      "Scraping: http://books.toscrape.com/catalogue/category/books/philosophy_7/index.html\n",
      "Scraping: http://books.toscrape.com/catalogue/category/books/romance_8/index.html\n",
      "Scraping: http://books.toscrape.com/catalogue/category/books/romance_8/page-2.html\n",
      "Scraping: http://books.toscrape.com/catalogue/category/books/womens-fiction_9/index.html\n",
      "Scraping: http://books.toscrape.com/catalogue/category/books/fiction_10/index.html\n",
      "Scraping: http://books.toscrape.com/catalogue/category/books/fiction_10/page-2.html\n",
      "Scraping: http://books.toscrape.com/catalogue/category/books/fiction_10/page-3.html\n",
      "Scraping: http://books.toscrape.com/catalogue/category/books/fiction_10/page-4.html\n",
      "Scraping: http://books.toscrape.com/catalogue/category/books/childrens_11/index.html\n",
      "Scraping: http://books.toscrape.com/catalogue/category/books/childrens_11/page-2.html\n",
      "Scraping: http://books.toscrape.com/catalogue/category/books/religion_12/index.html\n",
      "Scraping: http://books.toscrape.com/catalogue/category/books/nonfiction_13/index.html\n",
      "Scraping: http://books.toscrape.com/catalogue/category/books/nonfiction_13/page-2.html\n",
      "Scraping: http://books.toscrape.com/catalogue/category/books/nonfiction_13/page-3.html\n",
      "Scraping: http://books.toscrape.com/catalogue/category/books/nonfiction_13/page-4.html\n",
      "Scraping: http://books.toscrape.com/catalogue/category/books/nonfiction_13/page-5.html\n",
      "Scraping: http://books.toscrape.com/catalogue/category/books/nonfiction_13/page-6.html\n",
      "Scraping: http://books.toscrape.com/catalogue/category/books/music_14/index.html\n",
      "Scraping: http://books.toscrape.com/catalogue/category/books/default_15/index.html\n",
      "Scraping: http://books.toscrape.com/catalogue/category/books/default_15/page-2.html\n",
      "Scraping: http://books.toscrape.com/catalogue/category/books/default_15/page-3.html\n",
      "Scraping: http://books.toscrape.com/catalogue/category/books/default_15/page-4.html\n",
      "Scraping: http://books.toscrape.com/catalogue/category/books/default_15/page-5.html\n",
      "Scraping: http://books.toscrape.com/catalogue/category/books/default_15/page-6.html\n",
      "Scraping: http://books.toscrape.com/catalogue/category/books/default_15/page-7.html\n",
      "Scraping: http://books.toscrape.com/catalogue/category/books/default_15/page-8.html\n",
      "Scraping: http://books.toscrape.com/catalogue/category/books/science-fiction_16/index.html\n",
      "Scraping: http://books.toscrape.com/catalogue/category/books/sports-and-games_17/index.html\n",
      "Scraping: http://books.toscrape.com/catalogue/category/books/add-a-comment_18/index.html\n",
      "Scraping: http://books.toscrape.com/catalogue/category/books/add-a-comment_18/page-2.html\n",
      "Scraping: http://books.toscrape.com/catalogue/category/books/add-a-comment_18/page-3.html\n",
      "Scraping: http://books.toscrape.com/catalogue/category/books/add-a-comment_18/page-4.html\n",
      "Scraping: http://books.toscrape.com/catalogue/category/books/fantasy_19/index.html\n",
      "Scraping: http://books.toscrape.com/catalogue/category/books/fantasy_19/page-2.html\n",
      "Scraping: http://books.toscrape.com/catalogue/category/books/fantasy_19/page-3.html\n",
      "Scraping: http://books.toscrape.com/catalogue/category/books/new-adult_20/index.html\n",
      "Scraping: http://books.toscrape.com/catalogue/category/books/young-adult_21/index.html\n",
      "Scraping: http://books.toscrape.com/catalogue/category/books/young-adult_21/page-2.html\n",
      "Scraping: http://books.toscrape.com/catalogue/category/books/young-adult_21/page-3.html\n",
      "Scraping: http://books.toscrape.com/catalogue/category/books/science_22/index.html\n",
      "Scraping: http://books.toscrape.com/catalogue/category/books/poetry_23/index.html\n",
      "Scraping: http://books.toscrape.com/catalogue/category/books/paranormal_24/index.html\n",
      "Scraping: http://books.toscrape.com/catalogue/category/books/art_25/index.html\n",
      "Scraping: http://books.toscrape.com/catalogue/category/books/psychology_26/index.html\n",
      "Scraping: http://books.toscrape.com/catalogue/category/books/autobiography_27/index.html\n",
      "Scraping: http://books.toscrape.com/catalogue/category/books/parenting_28/index.html\n",
      "Scraping: http://books.toscrape.com/catalogue/category/books/adult-fiction_29/index.html\n",
      "Scraping: http://books.toscrape.com/catalogue/category/books/humor_30/index.html\n",
      "Scraping: http://books.toscrape.com/catalogue/category/books/horror_31/index.html\n",
      "Scraping: http://books.toscrape.com/catalogue/category/books/history_32/index.html\n",
      "Scraping: http://books.toscrape.com/catalogue/category/books/food-and-drink_33/index.html\n",
      "Scraping: http://books.toscrape.com/catalogue/category/books/food-and-drink_33/page-2.html\n",
      "Scraping: http://books.toscrape.com/catalogue/category/books/christian-fiction_34/index.html\n",
      "Scraping: http://books.toscrape.com/catalogue/category/books/business_35/index.html\n",
      "Scraping: http://books.toscrape.com/catalogue/category/books/biography_36/index.html\n",
      "Scraping: http://books.toscrape.com/catalogue/category/books/thriller_37/index.html\n",
      "Scraping: http://books.toscrape.com/catalogue/category/books/contemporary_38/index.html\n",
      "Scraping: http://books.toscrape.com/catalogue/category/books/spirituality_39/index.html\n",
      "Scraping: http://books.toscrape.com/catalogue/category/books/academic_40/index.html\n",
      "Scraping: http://books.toscrape.com/catalogue/category/books/self-help_41/index.html\n",
      "Scraping: http://books.toscrape.com/catalogue/category/books/historical_42/index.html\n",
      "Scraping: http://books.toscrape.com/catalogue/category/books/christian_43/index.html\n",
      "Scraping: http://books.toscrape.com/catalogue/category/books/suspense_44/index.html\n",
      "Scraping: http://books.toscrape.com/catalogue/category/books/short-stories_45/index.html\n",
      "Scraping: http://books.toscrape.com/catalogue/category/books/novels_46/index.html\n",
      "Scraping: http://books.toscrape.com/catalogue/category/books/health_47/index.html\n",
      "Scraping: http://books.toscrape.com/catalogue/category/books/politics_48/index.html\n",
      "Scraping: http://books.toscrape.com/catalogue/category/books/cultural_49/index.html\n",
      "Scraping: http://books.toscrape.com/catalogue/category/books/erotica_50/index.html\n",
      "Scraping: http://books.toscrape.com/catalogue/category/books/crime_51/index.html\n",
      "✓ Combined file saved as all_genres_books.csv\n"
     ]
    }
   ],
   "source": [
    "all_dfs = []           # collect each genre DataFrame here\n",
    "\n",
    "for name, url in genre_dict.items():   # genre_dict came from Step 1\n",
    "    df = scrape_genre(url)\n",
    "    df[\"Genre\"] = name                 # add a genre column\n",
    "    all_dfs.append(df)\n",
    "\n",
    "master_df = pd.concat(all_dfs, ignore_index=True)\n",
    "\n",
    "master_df.to_csv(\"all_genres_books.csv\", index=False)\n",
    "print(\"✓ Combined file saved as all_genres_books.csv\")\n"
   ]
  },
  {
   "cell_type": "code",
   "execution_count": 7,
   "id": "2b2f0686",
   "metadata": {},
   "outputs": [
    {
     "name": "stdout",
     "output_type": "stream",
     "text": [
      "                                               Title  Price Rating  \\\n",
      "0                            It's Only the Himalayas  45.17    Two   \n",
      "1  Full Moon over Noah’s Ark: An Odyssey to Mount...  49.43   Four   \n",
      "2  See America: A Celebration of Our National Par...  48.87  Three   \n",
      "3  Vagabonding: An Uncommon Guide to the Art of L...  36.94    Two   \n",
      "4                               Under the Tuscan Sun  37.33  Three   \n",
      "\n",
      "  Availability  \n",
      "0     In stock  \n",
      "1     In stock  \n",
      "2     In stock  \n",
      "3     In stock  \n",
      "4     In stock  \n",
      "(11, 4)\n"
     ]
    }
   ],
   "source": [
    "import pandas as pd\n",
    "\n",
    "df = pd.read_csv(\"./scraped_books/travel_2025-06-01.csv\")\n",
    "print(df.head())\n",
    "print(df.shape)          # (rows, columns)"
   ]
  },
  {
   "cell_type": "code",
   "execution_count": 8,
   "id": "4f93deae",
   "metadata": {},
   "outputs": [
    {
     "name": "stdout",
     "output_type": "stream",
     "text": [
      "count    11.000000\n",
      "mean     39.794545\n",
      "std      10.394198\n",
      "min      23.210000\n",
      "25%      33.740000\n",
      "50%      38.950000\n",
      "75%      47.020000\n",
      "max      56.880000\n",
      "Name: Price, dtype: float64\n",
      "Two      3\n",
      "Three    3\n",
      "Four     2\n",
      "One      2\n",
      "Five     1\n",
      "Name: Rating, dtype: int64\n",
      "In stock    11\n",
      "Name: Availability, dtype: int64\n"
     ]
    }
   ],
   "source": [
    "print(df[\"Price\"].describe())\n",
    "\n",
    "# Count of books per star-rating\n",
    "print(df[\"Rating\"].value_counts())\n",
    "\n",
    "# How many are in stock vs. out of stock?\n",
    "print(df[\"Availability\"].value_counts())"
   ]
  },
  {
   "cell_type": "code",
   "execution_count": 9,
   "id": "4931e742",
   "metadata": {},
   "outputs": [
    {
     "name": "stdout",
     "output_type": "stream",
     "text": [
      "  Rating      Price\n",
      "1   Four  53.155000\n",
      "4    Two  42.150000\n",
      "3  Three  41.716667\n",
      "2    One  26.875000\n",
      "0   Five  26.080000\n"
     ]
    }
   ],
   "source": [
    "avg_price_by_rating = (\n",
    "    df.groupby(\"Rating\")[\"Price\"]\n",
    "      .mean()\n",
    "      .reset_index()\n",
    "      .sort_values(\"Price\", ascending=False)\n",
    ")\n",
    "print(avg_price_by_rating)\n"
   ]
  },
  {
   "cell_type": "code",
   "execution_count": 10,
   "id": "fb4bc71f",
   "metadata": {},
   "outputs": [
    {
     "data": {
      "image/png": "[encoded data removed]",
      "text/plain": [
       "<Figure size 640x480 with 1 Axes>"
      ]
     },
     "metadata": {},
     "output_type": "display_data"
    },
    {
     "data": {
      "image/png": "[encoded data removed]",
      "text/plain": [
       "<Figure size 640x480 with 1 Axes>"
      ]
     },
     "metadata": {},
     "output_type": "display_data"
    }
   ],
   "source": [
    "import matplotlib.pyplot as plt\n",
    "\n",
    "# 1) Histogram of prices\n",
    "df[\"Price\"].hist(bins=15)\n",
    "plt.title(\"Price Distribution\")\n",
    "plt.xlabel(\"Price (£)\")\n",
    "plt.ylabel(\"Number of books\")\n",
    "plt.show()\n",
    "\n",
    "# 2) Bar chart of rating counts\n",
    "df[\"Rating\"].value_counts().plot(kind=\"bar\")\n",
    "plt.title(\"Books per Star-Rating\")\n",
    "plt.xlabel(\"Star Rating\")\n",
    "plt.ylabel(\"Count\")\n",
    "plt.show()\n"
   ]
  },
  {
   "cell_type": "code",
   "execution_count": 11,
   "id": "6367f9c6",
   "metadata": {},
   "outputs": [
    {
     "name": "stdout",
     "output_type": "stream",
     "text": [
      "                                                              Title  Price Rating\n",
      "                                   A Year in Provence (Provence #1)  56.88   Four\n",
      "   Full Moon over Noah’s Ark: An Odyssey to Mount Ararat and Beyond  49.43   Four\n",
      " See America: A Celebration of Our National Parks & Treasured Sites  48.87  Three\n",
      "                                            It's Only the Himalayas  45.17    Two\n",
      "                                                 A Summer In Europe  44.34    Two\n",
      "                          Neither Here nor There: Travels in Europe  38.95  Three\n",
      "                                               Under the Tuscan Sun  37.33  Three\n",
      "Vagabonding: An Uncommon Guide to the Art of Long-Term World Travel  36.94    Two\n",
      "                                           The Great Railway Bazaar  30.54    One\n",
      "                                 1,000 Places to See Before You Die  26.08   Five\n"
     ]
    }
   ],
   "source": [
    "top10 = df.nlargest(10, \"Price\")[[\"Title\", \"Price\", \"Rating\"]]\n",
    "print(top10.to_string(index=False))"
   ]
  },
  {
   "cell_type": "code",
   "execution_count": 12,
   "id": "845eca2c",
   "metadata": {},
   "outputs": [
    {
     "name": "stdout",
     "output_type": "stream",
     "text": [
      "Genre\n",
      "Suspense              58.33\n",
      "Novels                54.81\n",
      "Politics              53.61\n",
      "Health                51.45\n",
      "New Adult             46.38\n",
      "Christian             42.50\n",
      "Sports and Games      41.17\n",
      "Self Help             40.62\n",
      "Travel                39.79\n",
      "Fantasy               39.59\n",
      "Art                   38.52\n",
      "Parenting             37.35\n",
      "History               37.29\n",
      "Autobiography         37.05\n",
      "Womens Fiction        36.79\n",
      "Cultural              36.58\n",
      "Classics              36.55\n",
      "Contemporary          36.20\n",
      "Fiction               36.07\n",
      "Poetry                35.97\n",
      "Horror                35.95\n",
      "Short Stories         35.88\n",
      "Add a comment         35.80\n",
      "Music                 35.64\n",
      "Young Adult           35.45\n",
      "Spirituality          35.10\n",
      "Sequential Art        34.57\n",
      "Default               34.39\n",
      "Christian Fiction     34.38\n",
      "Nonfiction            34.26\n",
      "Psychology            34.22\n",
      "Romance               33.93\n",
      "Science Fiction       33.80\n",
      "Biography             33.66\n",
      "Historical Fiction    33.64\n",
      "Philosophy            33.56\n",
      "Humor                 33.50\n",
      "Science               33.09\n",
      "Childrens             32.64\n",
      "Religion              32.57\n",
      "Business              32.46\n",
      "Mystery               31.72\n",
      "Thriller              31.43\n",
      "Food and Drink        31.41\n",
      "Historical            22.83\n",
      "Erotica               19.19\n",
      "Paranormal            15.40\n",
      "Adult Fiction         15.36\n",
      "Academic              13.12\n",
      "Crime                 10.97\n",
      "Name: Price, dtype: float64\n",
      "Rating               Five   Four    One  Three    Two\n",
      "Genre                                                \n",
      "Academic              NaN    NaN    NaN    NaN  13.12\n",
      "Add a comment       37.22  23.89  38.52  33.78  37.61\n",
      "Adult Fiction       15.36    NaN    NaN    NaN    NaN\n",
      "Art                 39.51  42.66    NaN  46.04  32.34\n",
      "Autobiography       58.81  12.91  34.02    NaN  11.87\n",
      "Biography             NaN    NaN  39.55  45.38  19.00\n",
      "Business            21.59  33.34  43.14  27.55  34.44\n",
      "Childrens           26.33  44.42  30.36  28.54  22.08\n",
      "Christian           54.00    NaN  25.77    NaN  47.72\n",
      "Christian Fiction   20.47  49.72    NaN    NaN  28.77\n",
      "Classics              NaN  27.42  37.46  44.86  36.68\n",
      "Contemporary        52.79    NaN  27.90    NaN    NaN\n",
      "Crime                 NaN    NaN  10.97    NaN    NaN\n",
      "Cultural              NaN    NaN  36.58    NaN    NaN\n",
      "Default             35.28  37.51  34.77  33.29  34.44\n",
      "Erotica             19.19    NaN    NaN    NaN    NaN\n",
      "Fantasy             42.82  44.73  38.73  36.25  52.26\n",
      "Fiction             46.29  40.26  39.72  26.41  33.77\n",
      "Food and Drink      24.91  14.02  38.77  33.14  30.81\n",
      "Health              51.34    NaN    NaN  49.05  54.07\n",
      "Historical          29.87    NaN  15.79    NaN    NaN\n",
      "Historical Fiction  29.28  30.52  37.34  29.69  33.69\n",
      "History             48.44  57.23  25.52  18.19  39.67\n",
      "Horror              36.30  47.51  36.02  24.19  39.68\n",
      "Humor               22.82  25.98  34.81  37.68  51.07\n",
      "Music               33.30  31.19  28.22  28.80  52.60\n",
      "Mystery             25.37  47.82  16.64  26.10  27.26\n",
      "New Adult           37.87    NaN  55.85  50.82  45.07\n",
      "Nonfiction          38.69  38.00  38.65  31.12  28.23\n",
      "Novels              54.81    NaN    NaN    NaN    NaN\n",
      "Paranormal            NaN    NaN  15.40    NaN    NaN\n",
      "Parenting             NaN    NaN    NaN    NaN  37.35\n",
      "Philosophy          22.94  37.78  39.86    NaN  25.89\n",
      "Poetry              39.97  25.80  41.05  54.54  37.04\n",
      "Politics              NaN  52.65  56.86    NaN  51.33\n",
      "Psychology            NaN    NaN  26.09  38.79  59.95\n",
      "Religion            30.03  25.15  27.62  41.03  37.97\n",
      "Romance             29.90  34.74  31.30  39.24  33.63\n",
      "Science             57.36  30.60  33.50  13.76  21.06\n",
      "Science Fiction     35.67  28.16  37.59    NaN  34.76\n",
      "Self Help           46.49    NaN  46.19  32.12    NaN\n",
      "Sequential Art      28.11  36.72  39.13  42.88  36.50\n",
      "Short Stories         NaN    NaN  35.88    NaN    NaN\n",
      "Spirituality        32.24    NaN  20.91    NaN  42.06\n",
      "Sports and Games    44.84  40.44  24.42  51.22  44.91\n",
      "Suspense              NaN    NaN    NaN  58.33    NaN\n",
      "Thriller            33.72  41.86  15.77  59.71  18.32\n",
      "Travel              26.08  53.16  26.88  38.95  44.34\n",
      "Womens Fiction      48.68  45.75  29.82  28.72  42.80\n",
      "Young Adult         35.35  41.73  38.28  38.64  32.74\n"
     ]
    }
   ],
   "source": [
    "df_all = pd.read_csv(\"all_genres_books.csv\")\n",
    "\n",
    "# Average price per genre\n",
    "avg_price_genre = (\n",
    "    df_all.groupby(\"Genre\")[\"Price\"]\n",
    "          .mean()\n",
    "          .round(2)\n",
    "          .sort_values(ascending=False)\n",
    ")\n",
    "print(avg_price_genre)\n",
    "\n",
    "# Pivot table: median price by genre vs. rating\n",
    "pivot = df_all.pivot_table(\n",
    "    index=\"Genre\",\n",
    "    columns=\"Rating\",\n",
    "    values=\"Price\",\n",
    "    aggfunc=\"median\"\n",
    ").round(2)\n",
    "print(pivot)\n"
   ]
  },
  {
   "cell_type": "code",
   "execution_count": 13,
   "id": "cb4f9e58",
   "metadata": {},
   "outputs": [],
   "source": [
    "with pd.ExcelWriter(\"book_insights.xlsx\") as writer:\n",
    "    df.to_excel(writer,  sheet_name=\"RawData\",  index=False)\n",
    "    avg_price_by_rating.to_excel(writer, sheet_name=\"AvgPriceStar\")\n",
    "    top10.to_excel(writer,         sheet_name=\"Top10Expensive\", index=False)\n"
   ]
  },
  {
   "cell_type": "code",
   "execution_count": 14,
   "id": "5a5d8375",
   "metadata": {},
   "outputs": [
    {
     "name": "stdout",
     "output_type": "stream",
     "text": [
      "the           5\n",
      "a             4\n",
      "to            4\n",
      "in            4\n",
      "of            3\n",
      "an            3\n",
      "europe        2\n",
      "see           2\n",
      "#1)           1\n",
      "adventures    1\n",
      "dribbling:    1\n",
      "little        1\n",
      "road          1\n",
      "provence      1\n",
      "(provence     1\n",
      "britain       1\n",
      "year          1\n",
      "bazaar        1\n",
      "railway       1\n",
      "great         1\n",
      "Name: Title, dtype: int64\n"
     ]
    }
   ],
   "source": [
    "# Break all titles into words\n",
    "words = df[\"Title\"].str.lower().str.split().explode()\n",
    "\n",
    "# Count most common words (excluding stopwords)\n",
    "common_words = words.value_counts()\n",
    "print(common_words.head(20))\n"
   ]
  },
  {
   "cell_type": "code",
   "execution_count": 15,
   "id": "c4900293",
   "metadata": {},
   "outputs": [
    {
     "name": "stdout",
     "output_type": "stream",
     "text": [
      "an            3\n",
      "europe        2\n",
      "see           2\n",
      "#1)           1\n",
      "adventures    1\n",
      "dribbling:    1\n",
      "little        1\n",
      "road          1\n",
      "provence      1\n",
      "(provence     1\n",
      "britain       1\n",
      "year          1\n",
      "bazaar        1\n",
      "railway       1\n",
      "great         1\n",
      "american      1\n",
      "before        1\n",
      "(notes        1\n",
      "places        1\n",
      "from          1\n",
      "Name: Title, dtype: int64\n"
     ]
    }
   ],
   "source": [
    "stopwords = {\"the\", \"a\", \"and\", \"of\", \"to\", \"in\", \"for\", \"on\", \"with\", \"by\"}\n",
    "filtered = common_words[~common_words.index.isin(stopwords)]\n",
    "print(filtered.head(20))\n"
   ]
  },
  {
   "cell_type": "code",
   "execution_count": 16,
   "id": "b386fce0",
   "metadata": {},
   "outputs": [],
   "source": [
    "import glob\n",
    "\n",
    "all_files = glob.glob(\"scraped_books/travel_*.csv\")\n",
    "dfs = []\n",
    "\n",
    "for file in all_files:\n",
    "    df = pd.read_csv(file)\n",
    "    # Extract date from filename\n",
    "    date_str = file.split(\"_\")[-1].replace(\".csv\", \"\")\n",
    "    df[\"ScrapeDate\"] = date_str\n",
    "    dfs.append(df)\n",
    "\n",
    "combined = pd.concat(dfs)\n",
    "combined[\"ScrapeDate\"] = pd.to_datetime(combined[\"ScrapeDate\"])\n"
   ]
  },
  {
   "cell_type": "code",
   "execution_count": 17,
   "id": "6ec7ef3e",
   "metadata": {},
   "outputs": [
    {
     "data": {
      "text/plain": [
       "<AxesSubplot:title={'center':\"Price Trend for: It's Only the Himalayas\"}, xlabel='ScrapeDate'>"
      ]
     },
     "execution_count": 17,
     "metadata": {},
     "output_type": "execute_result"
    },
    {
     "data": {
      "image/png": "[encoded data removed]",
      "text/plain": [
       "<Figure size 640x480 with 1 Axes>"
      ]
     },
     "metadata": {},
     "output_type": "display_data"
    }
   ],
   "source": [
    "# Pick one book and plot its price over time\n",
    "title = combined[\"Title\"].value_counts().idxmax()  # most common title\n",
    "book_df = combined[combined[\"Title\"] == title]\n",
    "\n",
    "book_df.sort_values(\"ScrapeDate\").plot(\n",
    "    x=\"ScrapeDate\", y=\"Price\", marker=\"o\", title=f\"Price Trend for: {title}\"\n",
    ")\n"
   ]
  },
  {
   "cell_type": "code",
   "execution_count": 18,
   "id": "c8cb26c2",
   "metadata": {},
   "outputs": [
    {
     "name": "stdout",
     "output_type": "stream",
     "text": [
      "Note: you may need to restart the kernel to use updated packages.\n"
     ]
    },
    {
     "name": "stderr",
     "output_type": "stream",
     "text": [
      "WARNING: You are using pip version 20.1.1; however, version 24.0 is available.\n",
      "You should consider upgrading via the 'c:\\Users\\rishi\\AppData\\Local\\Programs\\Python\\Python37\\python.exe -m pip install --upgrade pip' command.\n"
     ]
    },
    {
     "name": "stdout",
     "output_type": "stream",
     "text": [
      "Collecting textblob\n",
      "  Downloading textblob-0.17.1-py2.py3-none-any.whl (636 kB)\n",
      "Collecting nltk>=3.1; python_version >= \"3\"\n",
      "  Downloading nltk-3.8.1-py3-none-any.whl (1.5 MB)\n",
      "Requirement already satisfied: click in c:\\users\\rishi\\appdata\\local\\programs\\python\\python37\\lib\\site-packages (from nltk>=3.1; python_version >= \"3\"->textblob) (8.1.8)\n",
      "Requirement already satisfied: tqdm in c:\\users\\rishi\\appdata\\local\\programs\\python\\python37\\lib\\site-packages (from nltk>=3.1; python_version >= \"3\"->textblob) (4.67.1)\n",
      "Requirement already satisfied: joblib in c:\\users\\rishi\\appdata\\local\\programs\\python\\python37\\lib\\site-packages (from nltk>=3.1; python_version >= \"3\"->textblob) (1.3.2)\n",
      "Collecting regex>=2021.8.3\n",
      "  Downloading regex-2024.4.16-cp37-cp37m-win_amd64.whl (269 kB)\n",
      "Requirement already satisfied: importlib-metadata; python_version < \"3.8\" in c:\\users\\rishi\\appdata\\local\\programs\\python\\python37\\lib\\site-packages (from click->nltk>=3.1; python_version >= \"3\"->textblob) (6.7.0)\n",
      "Requirement already satisfied: colorama; platform_system == \"Windows\" in c:\\users\\rishi\\appdata\\roaming\\python\\python37\\site-packages (from click->nltk>=3.1; python_version >= \"3\"->textblob) (0.4.6)\n",
      "Requirement already satisfied: typing-extensions>=3.6.4; python_version < \"3.8\" in c:\\users\\rishi\\appdata\\local\\programs\\python\\python37\\lib\\site-packages (from importlib-metadata; python_version < \"3.8\"->click->nltk>=3.1; python_version >= \"3\"->textblob) (4.7.1)\n",
      "Requirement already satisfied: zipp>=0.5 in c:\\users\\rishi\\appdata\\local\\programs\\python\\python37\\lib\\site-packages (from importlib-metadata; python_version < \"3.8\"->click->nltk>=3.1; python_version >= \"3\"->textblob) (3.15.0)\n",
      "Installing collected packages: regex, nltk, textblob\n",
      "Successfully installed nltk-3.8.1 regex-2024.4.16 textblob-0.17.1\n"
     ]
    }
   ],
   "source": [
    "pip install textblob\n"
   ]
  },
  {
   "cell_type": "code",
   "execution_count": 20,
   "id": "fe7dff20",
   "metadata": {},
   "outputs": [
    {
     "name": "stdout",
     "output_type": "stream",
     "text": [
      "    Title Rating                                         Review  Sentiment\n",
      "0  Book A   Five  Absolutely amazing! A must-read for everyone.       0.75\n",
      "1  Book B    Two        Terrible book. Waste of time and money.      -0.60\n",
      "2  Book C   Four              Interesting plot but slow pacing.       0.10\n"
     ]
    }
   ],
   "source": [
    "from textblob import TextBlob\n",
    "import pandas as pd\n",
    "\n",
    "# Example DataFrame with fake review data\n",
    "df = pd.DataFrame({\n",
    "    \"Title\": [\"Book A\", \"Book B\", \"Book C\"],\n",
    "    \"Rating\": [\"Five\", \"Two\", \"Four\"],\n",
    "    \"Review\": [\n",
    "        \"Absolutely amazing! A must-read for everyone.\",\n",
    "        \"Terrible book. Waste of time and money.\",\n",
    "        \"Interesting plot but slow pacing.\"\n",
    "    ]\n",
    "})\n",
    "\n",
    "# Run sentiment analysis\n",
    "df[\"Sentiment\"] = df[\"Review\"].apply(lambda x: TextBlob(x).sentiment.polarity)\n",
    "print(df)\n"
   ]
  },
  {
   "cell_type": "code",
   "execution_count": 21,
   "id": "3ff5dd72",
   "metadata": {},
   "outputs": [
    {
     "data": {
      "text/plain": [
       "<AxesSubplot:title={'center':'Avg Sentiment by Star Rating'}, xlabel='Rating'>"
      ]
     },
     "execution_count": 21,
     "metadata": {},
     "output_type": "execute_result"
    },
    {
     "data": {
      "image/png": "[encoded data removed]",
      "text/plain": [
       "<Figure size 640x480 with 1 Axes>"
      ]
     },
     "metadata": {},
     "output_type": "display_data"
    }
   ],
   "source": [
    "# Analyze average sentiment vs. rating\n",
    "df.groupby(\"Rating\")[\"Sentiment\"].mean().plot(kind=\"bar\", title=\"Avg Sentiment by Star Rating\")\n"
   ]
  }
 ],
 "metadata": {
  "kernelspec": {
   "display_name": "Python 3",
   "language": "python",
   "name": "python3"
  },
  "language_info": {
   "codemirror_mode": {
    "name": "ipython",
    "version": 3
   },
   "file_extension": ".py",
   "mimetype": "text/x-python",
   "name": "python",
   "nbconvert_exporter": "python",
   "pygments_lexer": "ipython3",
   "version": "3.7.9"
  }
 },
 "nbformat": 4,
 "nbformat_minor": 5
}
